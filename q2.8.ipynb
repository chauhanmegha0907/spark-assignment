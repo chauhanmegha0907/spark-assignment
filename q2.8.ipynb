{
 "cells": [
  {
   "cell_type": "code",
   "execution_count": 1,
   "metadata": {},
   "outputs": [
    {
     "name": "stdout",
     "output_type": "stream",
     "text": [
      "Starting server on port 8008...\n"
     ]
    },
    {
     "name": "stderr",
     "output_type": "stream",
     "text": [
      "127.0.0.1 - - [29/Mar/2024 12:00:10] \"GET /most_suffering_country HTTP/1.1\" 404 -\n",
      "127.0.0.1 - - [29/Mar/2024 12:00:52] \"GET /most_suffering_country HTTP/1.1\" 404 -\n",
      "127.0.0.1 - - [29/Mar/2024 12:02:25] \"GET /most_suffering_country HTTP/1.1\" 404 -\n",
      "127.0.0.1 - - [29/Mar/2024 12:03:37] \"GET /most_suffering_country HTTP/1.1\" 404 -\n",
      "127.0.0.1 - - [29/Mar/2024 12:06:18] \"GET /most_suffering_country HTTP/1.1\" 404 -\n",
      "Setting default log level to \"WARN\".\n",
      "To adjust logging level use sc.setLogLevel(newLevel). For SparkR, use setLogLevel(newLevel).\n",
      "24/03/29 12:08:57 WARN NativeCodeLoader: Unable to load native-hadoop library for your platform... using builtin-java classes where applicable\n",
      "24/03/29 12:08:57 WARN Utils: Service 'SparkUI' could not bind on port 4040. Attempting port 4041.\n",
      "24/03/29 12:08:57 WARN Utils: Service 'SparkUI' could not bind on port 4041. Attempting port 4042.\n",
      "127.0.0.1 - - [29/Mar/2024 12:09:03] \"GET /least_suffering_country HTTP/1.1\" 200 -\n",
      "24/03/29 12:09:50 WARN Utils: Service 'SparkUI' could not bind on port 4040. Attempting port 4041.\n",
      "24/03/29 12:09:50 WARN Utils: Service 'SparkUI' could not bind on port 4041. Attempting port 4042.\n",
      "127.0.0.1 - - [29/Mar/2024 12:09:53] \"GET /least_suffering_country HTTP/1.1\" 200 -\n",
      "24/03/29 12:10:52 WARN Utils: Service 'SparkUI' could not bind on port 4040. Attempting port 4041.\n",
      "24/03/29 12:10:52 WARN Utils: Service 'SparkUI' could not bind on port 4041. Attempting port 4042.\n",
      "127.0.0.1 - - [29/Mar/2024 12:10:55] \"GET /least_suffering_country HTTP/1.1\" 200 -\n",
      "24/03/29 12:14:45 WARN Utils: Service 'SparkUI' could not bind on port 4040. Attempting port 4041.\n",
      "127.0.0.1 - - [29/Mar/2024 12:14:47] \"GET /least_suffering_country HTTP/1.1\" 200 -\n"
     ]
    }
   ],
   "source": [
    "from http.server import BaseHTTPRequestHandler, HTTPServer\n",
    "from pyspark.sql import SparkSession\n",
    "from pyspark.sql.functions import col, sum\n",
    "import os\n",
    "from glob import glob\n",
    "import json\n",
    "\n",
    "class HTTPRequestHandler(BaseHTTPRequestHandler):\n",
    "    def do_GET(self):\n",
    "        if self.path == '/least_suffering_country':\n",
    "            # Create a SparkSession\n",
    "            spark = SparkSession.builder \\\n",
    "                .appName(\"Least Suffering Country\") \\\n",
    "                .getOrCreate()\n",
    "\n",
    "            # Define the directory containing the CSV files\n",
    "            directory = \"/Users/meghasingh/Desktop/Spark assignment/\"\n",
    "\n",
    "            # Find all CSV files in the directory\n",
    "            file_paths = glob(os.path.join(directory, \"*.csv\"))\n",
    "\n",
    "            # Read each CSV file into a DataFrame\n",
    "            dfs = [spark.read.csv(file_path, header=True, inferSchema=True) for file_path in file_paths]\n",
    "\n",
    "            # Union all DataFrames\n",
    "            merged_df = dfs[0]\n",
    "            for df in dfs[1:]:\n",
    "                merged_df = merged_df.union(df)\n",
    "\n",
    "            # Calculate total critical cases for each country\n",
    "            country_stats = merged_df.groupBy(\"country\") \\\n",
    "                .agg(sum(\"critical\").alias(\"total_critical_cases\"))\n",
    "\n",
    "            # Find the country with the least number of critical cases\n",
    "            least_suffering_country = country_stats.orderBy(col(\"total_critical_cases\")).select(\"country\").first()[0]\n",
    "\n",
    "            # Stop the SparkSession\n",
    "            spark.stop()\n",
    "\n",
    "            # Send response\n",
    "            self.send_response(200)\n",
    "            self.send_header('Content-type', 'application/json')\n",
    "            self.end_headers()\n",
    "            response = {'least_suffering_country': least_suffering_country}\n",
    "            self.wfile.write(json.dumps(response).encode())\n",
    "\n",
    "        else:\n",
    "            # Send 404 response for other paths\n",
    "            self.send_response(404)\n",
    "            self.end_headers()\n",
    "            self.wfile.write(b'404 Not Found')\n",
    "\n",
    "def run_server(port=8008):\n",
    "    server_address = ('', port)\n",
    "    httpd = HTTPServer(server_address, HTTPRequestHandler)\n",
    "    print(f'Starting server on port {port}...')\n",
    "    httpd.serve_forever()\n",
    "\n",
    "if __name__ == '__main__':\n",
    "    run_server()"
   ]
  }
 ],
 "metadata": {
  "kernelspec": {
   "display_name": "Python 3",
   "language": "python",
   "name": "python3"
  },
  "language_info": {
   "codemirror_mode": {
    "name": "ipython",
    "version": 3
   },
   "file_extension": ".py",
   "mimetype": "text/x-python",
   "name": "python",
   "nbconvert_exporter": "python",
   "pygments_lexer": "ipython3",
   "version": "3.9.6"
  }
 },
 "nbformat": 4,
 "nbformat_minor": 2
}
